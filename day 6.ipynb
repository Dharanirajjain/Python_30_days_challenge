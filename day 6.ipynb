{
 "cells": [
  {
   "cell_type": "code",
   "execution_count": 1,
   "id": "d7ae083d",
   "metadata": {},
   "outputs": [],
   "source": [
    "#user defined funtions"
   ]
  },
  {
   "cell_type": "code",
   "execution_count": 8,
   "id": "b22bfd11",
   "metadata": {},
   "outputs": [
    {
     "name": "stdout",
     "output_type": "stream",
     "text": [
      "enter the value for a4\n",
      "enter the value for b5\n",
      "9\n"
     ]
    }
   ],
   "source": [
    "def dj():\n",
    "    a=int(input(\"enter the value for a\"))\n",
    "    b=int(input(\"enter the value for b\"))\n",
    "    sum=a+b\n",
    "    print(sum)\n",
    "dj()"
   ]
  },
  {
   "cell_type": "code",
   "execution_count": 10,
   "id": "5c9fbd1c",
   "metadata": {},
   "outputs": [
    {
     "name": "stdout",
     "output_type": "stream",
     "text": [
      "my age is 20\n"
     ]
    }
   ],
   "source": [
    "a=20\n",
    "print(\"my age is {}\".format(a))"
   ]
  },
  {
   "cell_type": "code",
   "execution_count": 3,
   "id": "2651100c",
   "metadata": {},
   "outputs": [
    {
     "name": "stdout",
     "output_type": "stream",
     "text": [
      "enter the namedj\n",
      "hello dj\n"
     ]
    }
   ],
   "source": [
    "def prin():\n",
    "    name=input(\"enter the name\")\n",
    "    print(\"hello\"+\" \"+name)\n",
    "prin()"
   ]
  },
  {
   "cell_type": "code",
   "execution_count": 4,
   "id": "af875f5a",
   "metadata": {},
   "outputs": [
    {
     "name": "stdout",
     "output_type": "stream",
     "text": [
      "my age 24 and pincode is 574236\n"
     ]
    }
   ],
   "source": [
    "print(\"my age {} and pincode is {}\".format(24,574236))"
   ]
  },
  {
   "cell_type": "code",
   "execution_count": 8,
   "id": "5b7571f5",
   "metadata": {},
   "outputs": [
    {
     "name": "stdout",
     "output_type": "stream",
     "text": [
      "my age is 20\n"
     ]
    }
   ],
   "source": [
    "print(f\"my age is {20}\")"
   ]
  },
  {
   "cell_type": "markdown",
   "id": "fad02720",
   "metadata": {},
   "source": [
    "# Making the result of student"
   ]
  },
  {
   "cell_type": "code",
   "execution_count": 9,
   "id": "cf4ff28b",
   "metadata": {},
   "outputs": [],
   "source": [
    "def concat():\n",
    "    print(\"cobntact details of the school\")\n",
    "    print(\"delhi public school\")\n",
    "    print(\"Bangalore karnataka\")\n",
    "    print(\"23456789\")\n",
    "    print(\"dps.contact@gmail.com\")"
   ]
  },
  {
   "cell_type": "code",
   "execution_count": 11,
   "id": "ad6bca1a",
   "metadata": {},
   "outputs": [
    {
     "name": "stdout",
     "output_type": "stream",
     "text": [
      "name of the studentdj\n",
      "enter the marks of maths60\n",
      "enter the marks of science70\n",
      "enter the marks of social80\n",
      "\n",
      "cobntact details of the school\n",
      "delhi public school\n",
      "Bangalore karnataka\n",
      "23456789\n",
      "dps.contact@gmail.com\n",
      "name of the studentgh\n",
      "enter the marks of maths67\n",
      "enter the marks of science78\n",
      "enter the marks of social89\n",
      "\n",
      "cobntact details of the school\n",
      "delhi public school\n",
      "Bangalore karnataka\n",
      "23456789\n",
      "dps.contact@gmail.com\n",
      "name of the studentty\n",
      "enter the marks of maths67\n",
      "enter the marks of science89\n",
      "enter the marks of social89\n",
      "\n",
      "cobntact details of the school\n",
      "delhi public school\n",
      "Bangalore karnataka\n",
      "23456789\n",
      "dps.contact@gmail.com\n",
      "name of the studentui\n",
      "enter the marks of maths67\n",
      "enter the marks of science87\n",
      "enter the marks of social89\n",
      "\n",
      "cobntact details of the school\n",
      "delhi public school\n",
      "Bangalore karnataka\n",
      "23456789\n",
      "dps.contact@gmail.com\n"
     ]
    }
   ],
   "source": [
    "for i in range(4):\n",
    "    a=input(\"name of the student\")\n",
    "    b=int(input(\"enter the marks of maths\"))\n",
    "    c=int(input(\"enter the marks of science\"))\n",
    "    d=int(input(\"enter the marks of social\"))\n",
    "    print()\n",
    "    concat()"
   ]
  },
  {
   "cell_type": "markdown",
   "id": "948e6db7",
   "metadata": {},
   "source": [
    "# Arguments"
   ]
  },
  {
   "cell_type": "code",
   "execution_count": 12,
   "id": "59127340",
   "metadata": {},
   "outputs": [
    {
     "name": "stdout",
     "output_type": "stream",
     "text": [
      "64\n"
     ]
    }
   ],
   "source": [
    "def sum(a,b):\n",
    "    s=a+b\n",
    "    print(s)\n",
    "sum(34,30)"
   ]
  },
  {
   "cell_type": "code",
   "execution_count": 26,
   "id": "46be4377",
   "metadata": {},
   "outputs": [
    {
     "name": "stdout",
     "output_type": "stream",
     "text": [
      "enter the bill100\n",
      "enter the addressbangalore\n",
      "entr the date33\n",
      "700\n",
      "bangalore\n"
     ]
    }
   ],
   "source": [
    "def ebill():\n",
    "    units=int(input(\"enter the bill\"))\n",
    "    address=input(\"enter the address\")\n",
    "    date=int(input(\"entr the date\"))\n",
    "    if units<=500:\n",
    "        amount=units*5\n",
    "    if units>500 and units <=700:\n",
    "        amount=units*10\n",
    "    if units>700 and units<=1000:\n",
    "        amount=units*15\n",
    "    if units>1000:\n",
    "        amount=units*20\n",
    "    if date>30:\n",
    "        amount=amount+200\n",
    "        print(amount)\n",
    "        print(address)\n",
    "    else:\n",
    "        print(amount)\n",
    "        print(address)\n",
    "ebill()"
   ]
  },
  {
   "cell_type": "code",
   "execution_count": null,
   "id": "7ecb79ac",
   "metadata": {},
   "outputs": [],
   "source": []
  },
  {
   "cell_type": "code",
   "execution_count": null,
   "id": "96e9cff0",
   "metadata": {},
   "outputs": [],
   "source": []
  }
 ],
 "metadata": {
  "kernelspec": {
   "display_name": "Python 3 (ipykernel)",
   "language": "python",
   "name": "python3"
  },
  "language_info": {
   "codemirror_mode": {
    "name": "ipython",
    "version": 3
   },
   "file_extension": ".py",
   "mimetype": "text/x-python",
   "name": "python",
   "nbconvert_exporter": "python",
   "pygments_lexer": "ipython3",
   "version": "3.9.13"
  }
 },
 "nbformat": 4,
 "nbformat_minor": 5
}
