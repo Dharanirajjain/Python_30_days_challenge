{
 "cells": [
  {
   "cell_type": "code",
   "execution_count": 6,
   "id": "5827d6cb",
   "metadata": {},
   "outputs": [],
   "source": [
    "#Tuples:its a orderd,duplicate values allowed,but we can't change the value once we assigned"
   ]
  },
  {
   "cell_type": "code",
   "execution_count": 7,
   "id": "ab627aa0",
   "metadata": {},
   "outputs": [
    {
     "name": "stdout",
     "output_type": "stream",
     "text": [
      "(1, 1, 2, 3.1, 'dj')\n"
     ]
    }
   ],
   "source": [
    "t1=(1,1,2,3.1,\"dj\")\n",
    "print(t1)"
   ]
  },
  {
   "cell_type": "code",
   "execution_count": 8,
   "id": "af67c786",
   "metadata": {},
   "outputs": [
    {
     "name": "stdout",
     "output_type": "stream",
     "text": [
      "1\n"
     ]
    }
   ],
   "source": [
    "print(t1[0])"
   ]
  },
  {
   "cell_type": "code",
   "execution_count": 9,
   "id": "233da2c5",
   "metadata": {},
   "outputs": [
    {
     "name": "stdout",
     "output_type": "stream",
     "text": [
      "1\n"
     ]
    }
   ],
   "source": [
    "print(t1[1])"
   ]
  },
  {
   "cell_type": "code",
   "execution_count": 11,
   "id": "d186924b",
   "metadata": {},
   "outputs": [
    {
     "name": "stdout",
     "output_type": "stream",
     "text": [
      "(1, 1, 2, 3.1, 'dj')\n"
     ]
    }
   ],
   "source": [
    "print(t1[0:5:1])"
   ]
  },
  {
   "cell_type": "code",
   "execution_count": 12,
   "id": "1507eb4e",
   "metadata": {},
   "outputs": [
    {
     "name": "stdout",
     "output_type": "stream",
     "text": [
      "<class 'tuple'>\n"
     ]
    }
   ],
   "source": [
    "print(type(t1))"
   ]
  },
  {
   "cell_type": "code",
   "execution_count": 13,
   "id": "01714810",
   "metadata": {},
   "outputs": [],
   "source": [
    "t2=(2,3,4.1,\"djj\",\"kl\")"
   ]
  },
  {
   "cell_type": "code",
   "execution_count": 14,
   "id": "41c8dacc",
   "metadata": {},
   "outputs": [
    {
     "name": "stdout",
     "output_type": "stream",
     "text": [
      "<class 'tuple'>\n"
     ]
    }
   ],
   "source": [
    "#empty tuple\n",
    "t1=tuple()\n",
    "print(type(t1))"
   ]
  },
  {
   "cell_type": "code",
   "execution_count": 15,
   "id": "51708c97",
   "metadata": {},
   "outputs": [
    {
     "name": "stdout",
     "output_type": "stream",
     "text": [
      "()\n"
     ]
    }
   ],
   "source": [
    "print(t1)"
   ]
  },
  {
   "cell_type": "code",
   "execution_count": 16,
   "id": "07fd8fae",
   "metadata": {},
   "outputs": [],
   "source": [
    "#nested tuble\n",
    "t3=(2,3,4,(\"dj\",\"fj\"))"
   ]
  },
  {
   "cell_type": "code",
   "execution_count": 17,
   "id": "8f2aa308",
   "metadata": {},
   "outputs": [
    {
     "name": "stdout",
     "output_type": "stream",
     "text": [
      "(2, 3, 4, ('dj', 'fj'))\n"
     ]
    }
   ],
   "source": [
    "print(t3)"
   ]
  },
  {
   "cell_type": "code",
   "execution_count": 18,
   "id": "e23bac1c",
   "metadata": {},
   "outputs": [
    {
     "name": "stdout",
     "output_type": "stream",
     "text": [
      "('dj', 'fj')\n"
     ]
    }
   ],
   "source": [
    "print(t3[3])"
   ]
  },
  {
   "cell_type": "code",
   "execution_count": 19,
   "id": "f65a3822",
   "metadata": {},
   "outputs": [
    {
     "name": "stdout",
     "output_type": "stream",
     "text": [
      "(2, 3, 4, [4.1, 2, 3])\n"
     ]
    }
   ],
   "source": [
    "new=(2,3,4,[4.1,2,3])\n",
    "print(new)"
   ]
  },
  {
   "cell_type": "code",
   "execution_count": 20,
   "id": "f05a3eca",
   "metadata": {},
   "outputs": [
    {
     "name": "stdout",
     "output_type": "stream",
     "text": [
      "<class 'tuple'>\n"
     ]
    }
   ],
   "source": [
    "print(type(new))"
   ]
  },
  {
   "cell_type": "code",
   "execution_count": 21,
   "id": "16106939",
   "metadata": {},
   "outputs": [
    {
     "data": {
      "text/plain": [
       "4.1"
      ]
     },
     "execution_count": 21,
     "metadata": {},
     "output_type": "execute_result"
    }
   ],
   "source": [
    "new[3][0]"
   ]
  },
  {
   "cell_type": "code",
   "execution_count": 24,
   "id": "015ba46c",
   "metadata": {},
   "outputs": [
    {
     "name": "stdout",
     "output_type": "stream",
     "text": [
      "('hello',)\n"
     ]
    }
   ],
   "source": [
    "#creating thetuple it contain only one item\n",
    "var1=(\"hello\",)\n",
    "print(var1)"
   ]
  },
  {
   "cell_type": "code",
   "execution_count": 25,
   "id": "fb456a07",
   "metadata": {},
   "outputs": [
    {
     "name": "stdout",
     "output_type": "stream",
     "text": [
      "<class 'tuple'>\n"
     ]
    }
   ],
   "source": [
    "print(type(var1))"
   ]
  },
  {
   "cell_type": "code",
   "execution_count": 28,
   "id": "8ddbcda0",
   "metadata": {},
   "outputs": [],
   "source": [
    "#tuple constructor\n",
    "a=tuple((\"a\",\"b\",\"c\"))"
   ]
  },
  {
   "cell_type": "code",
   "execution_count": 29,
   "id": "2b814798",
   "metadata": {},
   "outputs": [
    {
     "name": "stdout",
     "output_type": "stream",
     "text": [
      "<class 'tuple'>\n"
     ]
    }
   ],
   "source": [
    "print(type(a))"
   ]
  },
  {
   "cell_type": "code",
   "execution_count": 1,
   "id": "e32d1655",
   "metadata": {},
   "outputs": [
    {
     "name": "stdout",
     "output_type": "stream",
     "text": [
      "45\n"
     ]
    }
   ],
   "source": [
    "#indexing\n",
    "a=(23,34,45,67,78)\n",
    "print(a[2])"
   ]
  },
  {
   "cell_type": "code",
   "execution_count": 2,
   "id": "90861af0",
   "metadata": {},
   "outputs": [
    {
     "name": "stdout",
     "output_type": "stream",
     "text": [
      "78\n"
     ]
    }
   ],
   "source": [
    "print(a[-1])"
   ]
  },
  {
   "cell_type": "code",
   "execution_count": 3,
   "id": "5956ed7e",
   "metadata": {},
   "outputs": [
    {
     "name": "stdout",
     "output_type": "stream",
     "text": [
      "python\n"
     ]
    }
   ],
   "source": [
    "a=(23,34,45,67,78,\"data\",\"python\")\n",
    "print(a[-1])\n"
   ]
  },
  {
   "cell_type": "code",
   "execution_count": 4,
   "id": "6f037c3b",
   "metadata": {},
   "outputs": [
    {
     "name": "stdout",
     "output_type": "stream",
     "text": [
      "(23, 34, 45, 67, 78, 'data', 'python')\n"
     ]
    }
   ],
   "source": [
    "print(a[0:7:1])"
   ]
  },
  {
   "cell_type": "code",
   "execution_count": 5,
   "id": "db7b7685",
   "metadata": {},
   "outputs": [
    {
     "name": "stdout",
     "output_type": "stream",
     "text": [
      "('python', 'data', 78, 67, 45, 34, 23)\n"
     ]
    }
   ],
   "source": [
    "print(a[-1::-1])"
   ]
  },
  {
   "cell_type": "code",
   "execution_count": 6,
   "id": "e3bcf089",
   "metadata": {},
   "outputs": [
    {
     "name": "stdout",
     "output_type": "stream",
     "text": [
      "(1, 2, 3, 4, 5, 6, 7, 8)\n"
     ]
    }
   ],
   "source": [
    "t=(1,2,3,4,5,6,7,8)\n",
    "print(t[::])"
   ]
  },
  {
   "cell_type": "code",
   "execution_count": 9,
   "id": "d6800c70",
   "metadata": {},
   "outputs": [
    {
     "name": "stdout",
     "output_type": "stream",
     "text": [
      "(4, 5, 6, 7, 8)\n"
     ]
    }
   ],
   "source": [
    "print(t[3:])"
   ]
  },
  {
   "cell_type": "code",
   "execution_count": 10,
   "id": "e8b12e32",
   "metadata": {},
   "outputs": [
    {
     "name": "stdout",
     "output_type": "stream",
     "text": [
      "(1, 2, 3, 4)\n"
     ]
    }
   ],
   "source": [
    "print(t[:4])"
   ]
  },
  {
   "cell_type": "code",
   "execution_count": 13,
   "id": "451754ef",
   "metadata": {},
   "outputs": [
    {
     "name": "stdout",
     "output_type": "stream",
     "text": [
      "()\n"
     ]
    }
   ],
   "source": [
    "print(t[-2:-5])"
   ]
  },
  {
   "cell_type": "code",
   "execution_count": 17,
   "id": "74ff9d22",
   "metadata": {},
   "outputs": [
    {
     "name": "stdout",
     "output_type": "stream",
     "text": [
      "(1, 2, 'dj', 3.2, 45, 56)\n"
     ]
    }
   ],
   "source": [
    "#In tuple we can't do change but we can do one way\n",
    "t=(1,2,\"dj\",3.2,45,56)\n",
    "print(t)\n",
    "t1=list(t)"
   ]
  },
  {
   "cell_type": "code",
   "execution_count": 19,
   "id": "2e9435d2",
   "metadata": {},
   "outputs": [],
   "source": [
    "t1.append(\"vardhaman\")"
   ]
  },
  {
   "cell_type": "code",
   "execution_count": 20,
   "id": "a6be1294",
   "metadata": {},
   "outputs": [
    {
     "data": {
      "text/plain": [
       "[1, 2, 'dj', 3.2, 45, 56, 'vardhaman']"
      ]
     },
     "execution_count": 20,
     "metadata": {},
     "output_type": "execute_result"
    }
   ],
   "source": [
    "t1"
   ]
  },
  {
   "cell_type": "code",
   "execution_count": 21,
   "id": "687b52d6",
   "metadata": {},
   "outputs": [],
   "source": [
    "t=tuple(t1)"
   ]
  },
  {
   "cell_type": "code",
   "execution_count": 22,
   "id": "100d5cbb",
   "metadata": {},
   "outputs": [
    {
     "data": {
      "text/plain": [
       "(1, 2, 'dj', 3.2, 45, 56, 'vardhaman')"
      ]
     },
     "execution_count": 22,
     "metadata": {},
     "output_type": "execute_result"
    }
   ],
   "source": [
    "t"
   ]
  },
  {
   "cell_type": "code",
   "execution_count": 23,
   "id": "cbe4365d",
   "metadata": {},
   "outputs": [],
   "source": [
    "t1=list(t)"
   ]
  },
  {
   "cell_type": "code",
   "execution_count": 24,
   "id": "767339cf",
   "metadata": {},
   "outputs": [],
   "source": [
    "t1.remove(3.2)"
   ]
  },
  {
   "cell_type": "code",
   "execution_count": 25,
   "id": "3f5fdd65",
   "metadata": {},
   "outputs": [],
   "source": [
    "t=tuple(t1)"
   ]
  },
  {
   "cell_type": "code",
   "execution_count": 26,
   "id": "708c132e",
   "metadata": {},
   "outputs": [
    {
     "data": {
      "text/plain": [
       "(1, 2, 'dj', 45, 56, 'vardhaman')"
      ]
     },
     "execution_count": 26,
     "metadata": {},
     "output_type": "execute_result"
    }
   ],
   "source": [
    "t"
   ]
  },
  {
   "cell_type": "code",
   "execution_count": 27,
   "id": "36924c63",
   "metadata": {},
   "outputs": [],
   "source": [
    "a=(1,2,3,4,5,6,7,8)\n",
    "del a"
   ]
  },
  {
   "cell_type": "code",
   "execution_count": 29,
   "id": "34a9438a",
   "metadata": {},
   "outputs": [],
   "source": [
    "t=[3,4,5,6]"
   ]
  },
  {
   "cell_type": "code",
   "execution_count": 30,
   "id": "f41a1fe5",
   "metadata": {},
   "outputs": [],
   "source": [
    "del t"
   ]
  },
  {
   "cell_type": "code",
   "execution_count": 34,
   "id": "58dde50a",
   "metadata": {},
   "outputs": [
    {
     "name": "stdout",
     "output_type": "stream",
     "text": [
      "1\n",
      "2\n",
      "3\n",
      "4\n",
      "5\n",
      "6\n",
      "7\n"
     ]
    }
   ],
   "source": [
    "a=(1,2,3,4,5,6,7)\n",
    "for i in a:\n",
    "    print(i)"
   ]
  },
  {
   "cell_type": "code",
   "execution_count": 35,
   "id": "f884abe4",
   "metadata": {},
   "outputs": [],
   "source": [
    "#join the two tuples\n",
    "t=(1,2,3,4)\n",
    "t1=(3,4,5,6)\n",
    "t3=t+t1"
   ]
  },
  {
   "cell_type": "code",
   "execution_count": 36,
   "id": "c58d6fdb",
   "metadata": {},
   "outputs": [
    {
     "data": {
      "text/plain": [
       "(1, 2, 3, 4, 3, 4, 5, 6)"
      ]
     },
     "execution_count": 36,
     "metadata": {},
     "output_type": "execute_result"
    }
   ],
   "source": [
    "t3"
   ]
  },
  {
   "cell_type": "code",
   "execution_count": 38,
   "id": "a403e3e3",
   "metadata": {},
   "outputs": [
    {
     "name": "stdout",
     "output_type": "stream",
     "text": [
      "(1, 2, 3, 4, 1, 2, 3, 4)\n"
     ]
    }
   ],
   "source": [
    "t=(1,2,3,4)\n",
    "t2=t+t\n",
    "print(t2)"
   ]
  },
  {
   "cell_type": "code",
   "execution_count": 43,
   "id": "2a8081b3",
   "metadata": {},
   "outputs": [
    {
     "name": "stdout",
     "output_type": "stream",
     "text": [
      "enter the value3\n",
      "enter the value4\n",
      "enter the value5\n",
      "enter the value5\n",
      "enter the value6\n",
      "(3, 4, 5, 5, 6)\n"
     ]
    }
   ],
   "source": [
    "#write a program totake 5 input fromthe user store it in a tuple\n",
    "l=list()\n",
    "for i in range(5):\n",
    "    n=int(input(\"enter the value\"))\n",
    "    l.append(n)\n",
    "t=tuple(l)\n",
    "print(t)"
   ]
  },
  {
   "cell_type": "code",
   "execution_count": null,
   "id": "004c1907",
   "metadata": {},
   "outputs": [],
   "source": []
  }
 ],
 "metadata": {
  "kernelspec": {
   "display_name": "Python 3 (ipykernel)",
   "language": "python",
   "name": "python3"
  },
  "language_info": {
   "codemirror_mode": {
    "name": "ipython",
    "version": 3
   },
   "file_extension": ".py",
   "mimetype": "text/x-python",
   "name": "python",
   "nbconvert_exporter": "python",
   "pygments_lexer": "ipython3",
   "version": "3.9.13"
  }
 },
 "nbformat": 4,
 "nbformat_minor": 5
}
