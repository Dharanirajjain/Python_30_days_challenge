{
 "cells": [
  {
   "cell_type": "code",
   "execution_count": 1,
   "id": "a902d5ef",
   "metadata": {},
   "outputs": [
    {
     "data": {
      "text/plain": [
       "' built in funtion\\nuser definrd funtion\\nlambda funtion\\nrecursive funtion\\n'"
      ]
     },
     "execution_count": 1,
     "metadata": {},
     "output_type": "execute_result"
    }
   ],
   "source": [
    "#python funtion\n",
    "#types of funtion\n",
    "\"\"\" built in funtion\n",
    "user definrd funtion\n",
    "lambda funtion\n",
    "recursive funtion\n",
    "\"\"\"\n"
   ]
  },
  {
   "cell_type": "code",
   "execution_count": 2,
   "id": "d8b178e8",
   "metadata": {},
   "outputs": [
    {
     "name": "stdout",
     "output_type": "stream",
     "text": [
      "<class 'int'>\n"
     ]
    }
   ],
   "source": [
    "#built in funtion\n",
    "# why we use funtion means .we can reduce the lenght of the code\n",
    "#print ,and string funtions \n",
    "\n",
    "a=2\n",
    "print(type(a))"
   ]
  },
  {
   "cell_type": "markdown",
   "id": "d0b8a6cc",
   "metadata": {},
   "source": [
    "# abs() funtion"
   ]
  },
  {
   "cell_type": "code",
   "execution_count": 3,
   "id": "a13c76c8",
   "metadata": {},
   "outputs": [
    {
     "data": {
      "text/plain": [
       "7.2"
      ]
     },
     "execution_count": 3,
     "metadata": {},
     "output_type": "execute_result"
    }
   ],
   "source": [
    "abs(-7.2)"
   ]
  },
  {
   "cell_type": "code",
   "execution_count": 6,
   "id": "71a7dfca",
   "metadata": {},
   "outputs": [
    {
     "name": "stdout",
     "output_type": "stream",
     "text": [
      "7.25\n"
     ]
    }
   ],
   "source": [
    "x=abs(-7.25)\n",
    "print(x)"
   ]
  },
  {
   "cell_type": "code",
   "execution_count": 7,
   "id": "02f79518",
   "metadata": {},
   "outputs": [
    {
     "data": {
      "text/plain": [
       "8"
      ]
     },
     "execution_count": 7,
     "metadata": {},
     "output_type": "execute_result"
    }
   ],
   "source": [
    "abs(-8)"
   ]
  },
  {
   "cell_type": "code",
   "execution_count": 9,
   "id": "c5f837cf",
   "metadata": {},
   "outputs": [
    {
     "data": {
      "text/plain": [
       "4.242640687119285"
      ]
     },
     "execution_count": 9,
     "metadata": {},
     "output_type": "execute_result"
    }
   ],
   "source": [
    "abs(3+3j)"
   ]
  },
  {
   "cell_type": "markdown",
   "id": "2825685c",
   "metadata": {},
   "source": [
    "# binary funtion"
   ]
  },
  {
   "cell_type": "code",
   "execution_count": 10,
   "id": "456c09e0",
   "metadata": {},
   "outputs": [
    {
     "data": {
      "text/plain": [
       "'0b11'"
      ]
     },
     "execution_count": 10,
     "metadata": {},
     "output_type": "execute_result"
    }
   ],
   "source": [
    "bin(3)"
   ]
  },
  {
   "cell_type": "code",
   "execution_count": 11,
   "id": "96ac594b",
   "metadata": {},
   "outputs": [
    {
     "data": {
      "text/plain": [
       "'0b1010'"
      ]
     },
     "execution_count": 11,
     "metadata": {},
     "output_type": "execute_result"
    }
   ],
   "source": [
    "bin(10)"
   ]
  },
  {
   "cell_type": "code",
   "execution_count": 13,
   "id": "f6aca224",
   "metadata": {},
   "outputs": [
    {
     "data": {
      "text/plain": [
       "'0b1101'"
      ]
     },
     "execution_count": 13,
     "metadata": {},
     "output_type": "execute_result"
    }
   ],
   "source": [
    "bin(13)"
   ]
  },
  {
   "cell_type": "code",
   "execution_count": 18,
   "id": "73765b99",
   "metadata": {},
   "outputs": [
    {
     "data": {
      "text/plain": [
       "'0b100100'"
      ]
     },
     "execution_count": 18,
     "metadata": {},
     "output_type": "execute_result"
    }
   ],
   "source": [
    "bin(36)"
   ]
  },
  {
   "cell_type": "markdown",
   "id": "9a416dde",
   "metadata": {},
   "source": [
    "# bytes"
   ]
  },
  {
   "cell_type": "code",
   "execution_count": 22,
   "id": "036586f7",
   "metadata": {},
   "outputs": [
    {
     "name": "stdout",
     "output_type": "stream",
     "text": [
      "b'\\x00\\x00\\x00\\x00'\n"
     ]
    }
   ],
   "source": [
    "x=bytes(4)\n",
    "print(x)"
   ]
  },
  {
   "cell_type": "markdown",
   "id": "5ed6d277",
   "metadata": {},
   "source": [
    "# Character"
   ]
  },
  {
   "cell_type": "code",
   "execution_count": 28,
   "id": "09b55b53",
   "metadata": {},
   "outputs": [
    {
     "data": {
      "text/plain": [
       "'\\x02'"
      ]
     },
     "execution_count": 28,
     "metadata": {},
     "output_type": "execute_result"
    }
   ],
   "source": [
    "chr(a)"
   ]
  },
  {
   "cell_type": "code",
   "execution_count": 32,
   "id": "57d5657f",
   "metadata": {},
   "outputs": [
    {
     "data": {
      "text/plain": [
       "'c'"
      ]
     },
     "execution_count": 32,
     "metadata": {},
     "output_type": "execute_result"
    }
   ],
   "source": [
    "x=chr(99)\n",
    "x"
   ]
  },
  {
   "cell_type": "markdown",
   "id": "465204d3",
   "metadata": {},
   "source": [
    "# Complex funtion"
   ]
  },
  {
   "cell_type": "code",
   "execution_count": 35,
   "id": "09d34445",
   "metadata": {},
   "outputs": [
    {
     "name": "stdout",
     "output_type": "stream",
     "text": [
      "(3+5j)\n"
     ]
    }
   ],
   "source": [
    "x=complex(3,5)   #3 real,5 imaginaroy\n",
    "print(x)"
   ]
  },
  {
   "cell_type": "code",
   "execution_count": 36,
   "id": "1ca654a5",
   "metadata": {},
   "outputs": [
    {
     "data": {
      "text/plain": [
       "(3.1+2.1j)"
      ]
     },
     "execution_count": 36,
     "metadata": {},
     "output_type": "execute_result"
    }
   ],
   "source": [
    "complex(3.1,2.1)"
   ]
  },
  {
   "cell_type": "code",
   "execution_count": 38,
   "id": "72f540cb",
   "metadata": {},
   "outputs": [
    {
     "data": {
      "text/plain": [
       "(3+0j)"
      ]
     },
     "execution_count": 38,
     "metadata": {},
     "output_type": "execute_result"
    }
   ],
   "source": [
    "complex(3)"
   ]
  },
  {
   "cell_type": "markdown",
   "id": "ecfc2bc1",
   "metadata": {},
   "source": [
    "# Int,float,type,string"
   ]
  },
  {
   "cell_type": "code",
   "execution_count": 39,
   "id": "13a8abfe",
   "metadata": {},
   "outputs": [
    {
     "data": {
      "text/plain": [
       "2"
      ]
     },
     "execution_count": 39,
     "metadata": {},
     "output_type": "execute_result"
    }
   ],
   "source": [
    "int(2.2)"
   ]
  },
  {
   "cell_type": "code",
   "execution_count": 40,
   "id": "791d8f79",
   "metadata": {},
   "outputs": [
    {
     "data": {
      "text/plain": [
       "2.0"
      ]
     },
     "execution_count": 40,
     "metadata": {},
     "output_type": "execute_result"
    }
   ],
   "source": [
    "float(2)"
   ]
  },
  {
   "cell_type": "code",
   "execution_count": 41,
   "id": "69b4f01a",
   "metadata": {},
   "outputs": [
    {
     "data": {
      "text/plain": [
       "int"
      ]
     },
     "execution_count": 41,
     "metadata": {},
     "output_type": "execute_result"
    }
   ],
   "source": [
    "a=2\n",
    "type(a)"
   ]
  },
  {
   "cell_type": "code",
   "execution_count": 42,
   "id": "041f9a8d",
   "metadata": {},
   "outputs": [
    {
     "data": {
      "text/plain": [
       "'3'"
      ]
     },
     "execution_count": 42,
     "metadata": {},
     "output_type": "execute_result"
    }
   ],
   "source": [
    "a=str(3)\n",
    "a"
   ]
  },
  {
   "cell_type": "markdown",
   "id": "97406244",
   "metadata": {},
   "source": [
    "# help"
   ]
  },
  {
   "cell_type": "code",
   "execution_count": 44,
   "id": "c9c1e20d",
   "metadata": {},
   "outputs": [
    {
     "name": "stdout",
     "output_type": "stream",
     "text": [
      "Help on built-in function print in module builtins:\n",
      "\n",
      "print(...)\n",
      "    print(value, ..., sep=' ', end='\\n', file=sys.stdout, flush=False)\n",
      "    \n",
      "    Prints the values to a stream, or to sys.stdout by default.\n",
      "    Optional keyword arguments:\n",
      "    file:  a file-like object (stream); defaults to the current sys.stdout.\n",
      "    sep:   string inserted between values, default a space.\n",
      "    end:   string appended after the last value, default a newline.\n",
      "    flush: whether to forcibly flush the stream.\n",
      "\n"
     ]
    }
   ],
   "source": [
    "help(print)"
   ]
  },
  {
   "cell_type": "markdown",
   "id": "51135e9e",
   "metadata": {},
   "source": [
    "# Input funtion"
   ]
  },
  {
   "cell_type": "code",
   "execution_count": 46,
   "id": "55e223b1",
   "metadata": {},
   "outputs": [
    {
     "name": "stdout",
     "output_type": "stream",
     "text": [
      "enter your age23\n",
      "23\n",
      "<class 'str'>\n"
     ]
    }
   ],
   "source": [
    "n=input('enter your age')\n",
    "print(n)\n",
    "print(type(n))"
   ]
  },
  {
   "cell_type": "code",
   "execution_count": 47,
   "id": "135362d7",
   "metadata": {},
   "outputs": [
    {
     "name": "stdout",
     "output_type": "stream",
     "text": [
      "enter your age23\n",
      "23\n",
      "<class 'int'>\n"
     ]
    }
   ],
   "source": [
    "n=int(input(\"enter your age\"))\n",
    "print(n)\n",
    "print(type(n))"
   ]
  },
  {
   "cell_type": "code",
   "execution_count": null,
   "id": "a8b5a7f6",
   "metadata": {},
   "outputs": [],
   "source": []
  }
 ],
 "metadata": {
  "kernelspec": {
   "display_name": "Python 3 (ipykernel)",
   "language": "python",
   "name": "python3"
  },
  "language_info": {
   "codemirror_mode": {
    "name": "ipython",
    "version": 3
   },
   "file_extension": ".py",
   "mimetype": "text/x-python",
   "name": "python",
   "nbconvert_exporter": "python",
   "pygments_lexer": "ipython3",
   "version": "3.9.13"
  }
 },
 "nbformat": 4,
 "nbformat_minor": 5
}
