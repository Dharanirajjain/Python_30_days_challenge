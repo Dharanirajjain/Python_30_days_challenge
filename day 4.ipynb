{
 "cells": [
  {
   "cell_type": "markdown",
   "id": "312e1e81",
   "metadata": {},
   "source": [
    "# Control flow statement in python"
   ]
  },
  {
   "cell_type": "code",
   "execution_count": 1,
   "id": "87116c64",
   "metadata": {},
   "outputs": [
    {
     "name": "stdout",
     "output_type": "stream",
     "text": [
      "enter the time1\n",
      "nomarks deducted\n"
     ]
    }
   ],
   "source": [
    "n=int(input(\"enter the time\"))\n",
    "if n==10:\n",
    "    print(\"10 marks will be deducted\")\n",
    "if n==30:\n",
    "    print(\"30 marks will be deducted\")\n",
    "if n>30:\n",
    "    print(\"zero marks\")\n",
    "else:\n",
    "    print(\"nomarks deducted\")"
   ]
  },
  {
   "cell_type": "code",
   "execution_count": 2,
   "id": "f01be467",
   "metadata": {},
   "outputs": [
    {
     "name": "stdout",
     "output_type": "stream",
     "text": [
      "hello\n"
     ]
    }
   ],
   "source": [
    "# conditional statement :if,if-else,if-elif-else,nested if\n",
    "#transfer statement :break,continue,pass\n",
    "#iterative statement:for,while\n",
    "#if\n",
    "if 4>2:\n",
    "    print(\"hello\")\n",
    "else:\n",
    "    print(\"no\")"
   ]
  },
  {
   "cell_type": "code",
   "execution_count": 4,
   "id": "72afa9c6",
   "metadata": {},
   "outputs": [
    {
     "name": "stdout",
     "output_type": "stream",
     "text": [
      "eligible\n"
     ]
    }
   ],
   "source": [
    "age=18\n",
    "if age>=18:\n",
    "    print(\"eligible\")\n",
    "else:\n",
    "    print(\"not eligible\")"
   ]
  },
  {
   "cell_type": "code",
   "execution_count": 6,
   "id": "b2a33bca",
   "metadata": {},
   "outputs": [
    {
     "name": "stdout",
     "output_type": "stream",
     "text": [
      "not eligible\n"
     ]
    }
   ],
   "source": [
    "age=11\n",
    "if age==18:\n",
    "    print(\"eligible\")\n",
    "elif age>=18:\n",
    "    print(\"eligible\")\n",
    "else:\n",
    "    print(\"not eligible\")"
   ]
  },
  {
   "cell_type": "code",
   "execution_count": 8,
   "id": "f694587a",
   "metadata": {},
   "outputs": [
    {
     "name": "stdout",
     "output_type": "stream",
     "text": [
      "distinction\n"
     ]
    }
   ],
   "source": [
    "ma=90\n",
    "if ma>=35 and ma <=40:\n",
    "    print(\"just pass\")\n",
    "if ma>=40 and ma<=50:\n",
    "    print(\"pass\")\n",
    "if ma>=50 and ma<60:\n",
    "    print(\"second class\")\n",
    "if ma>=60 and ma<=70:\n",
    "    print(\"first class\")\n",
    "if  ma>85 and ma<100:\n",
    "    print(\"distinction\")\n",
    "    "
   ]
  },
  {
   "cell_type": "code",
   "execution_count": 10,
   "id": "21e20311",
   "metadata": {},
   "outputs": [
    {
     "name": "stdout",
     "output_type": "stream",
     "text": [
      "enter the name of the studentdharani\n",
      "enter the maths subject marks60\n",
      "enter the science subject marks70\n",
      "enter the social subject marks80\n",
      "enter the marks56\n",
      "entr the marks78\n",
      "68.8\n"
     ]
    }
   ],
   "source": [
    "#write a program to calculate the percentage of the student in the subjects maths science social eng and hindi\n",
    "\n",
    "x=input(\"enter the name of the student\")\n",
    "maths=int(input(\"enter the maths subject marks\"))\n",
    "science=int(input(\"enter the science subject marks\"))\n",
    "social=int(input(\"enter the social subject marks\"))\n",
    "hindi=int(input(\"enter the marks\"))\n",
    "english=int(input(\"entr the marks\"))\n",
    "total=maths+science+social+hindi+english\n",
    "per=total*100/500\n",
    "print(per)"
   ]
  },
  {
   "cell_type": "code",
   "execution_count": 13,
   "id": "c7c37e4e",
   "metadata": {},
   "outputs": [
    {
     "name": "stdout",
     "output_type": "stream",
     "text": [
      "B+\n"
     ]
    }
   ],
   "source": [
    "per=68.8\n",
    "if per >=85 and per<=100:\n",
    "    print(\"A+\")\n",
    "if per >=70 and per <=75:\n",
    "    print(\"A\")\n",
    "if per >=60 and per<=70:\n",
    "    print(\"B+\")\n"
   ]
  },
  {
   "cell_type": "code",
   "execution_count": 14,
   "id": "670b6324",
   "metadata": {},
   "outputs": [
    {
     "name": "stdout",
     "output_type": "stream",
     "text": [
      "hello\n"
     ]
    }
   ],
   "source": [
    "n=25\n",
    "if n%5==0:\n",
    "    print(\"hello\")\n",
    "else:\n",
    "    print(\"bye\")"
   ]
  },
  {
   "cell_type": "code",
   "execution_count": null,
   "id": "697357f8",
   "metadata": {},
   "outputs": [],
   "source": []
  }
 ],
 "metadata": {
  "kernelspec": {
   "display_name": "Python 3 (ipykernel)",
   "language": "python",
   "name": "python3"
  },
  "language_info": {
   "codemirror_mode": {
    "name": "ipython",
    "version": 3
   },
   "file_extension": ".py",
   "mimetype": "text/x-python",
   "name": "python",
   "nbconvert_exporter": "python",
   "pygments_lexer": "ipython3",
   "version": "3.9.13"
  }
 },
 "nbformat": 4,
 "nbformat_minor": 5
}
