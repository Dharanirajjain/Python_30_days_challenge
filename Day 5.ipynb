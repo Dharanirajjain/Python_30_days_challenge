{
 "cells": [
  {
   "cell_type": "code",
   "execution_count": 3,
   "id": "cad541fb",
   "metadata": {},
   "outputs": [
    {
     "name": "stdout",
     "output_type": "stream",
     "text": [
      "hello good morning\n",
      "hello good morning\n",
      "hello good morning\n",
      "hello good morning\n",
      "hello good morning\n",
      "hello good morning\n",
      "hello good morning\n",
      "hello good morning\n",
      "hello good morning\n",
      "hello good morning\n",
      "hello good morning\n",
      "hello good morning\n",
      "hello good morning\n",
      "hello good morning\n",
      "hello good morning\n",
      "hello good morning\n",
      "hello good morning\n",
      "hello good morning\n",
      "hello good morning\n",
      "hello good morning\n",
      "hello good morning\n",
      "hello good morning\n",
      "hello good morning\n",
      "hello good morning\n",
      "hello good morning\n",
      "hello good morning\n",
      "hello good morning\n",
      "hello good morning\n",
      "hello good morning\n",
      "hello good morning\n",
      "hello good morning\n",
      "hello good morning\n",
      "hello good morning\n",
      "hello good morning\n",
      "hello good morning\n",
      "hello good morning\n",
      "hello good morning\n",
      "hello good morning\n",
      "hello good morning\n",
      "hello good morning\n",
      "hello good morning\n",
      "hello good morning\n",
      "hello good morning\n",
      "hello good morning\n",
      "hello good morning\n",
      "hello good morning\n",
      "hello good morning\n",
      "hello good morning\n",
      "hello good morning\n",
      "hello good morning\n",
      "hello good morning\n",
      "hello good morning\n",
      "hello good morning\n",
      "hello good morning\n",
      "hello good morning\n",
      "hello good morning\n",
      "hello good morning\n",
      "hello good morning\n",
      "hello good morning\n",
      "hello good morning\n",
      "hello good morning\n",
      "hello good morning\n",
      "hello good morning\n",
      "hello good morning\n",
      "hello good morning\n",
      "hello good morning\n",
      "hello good morning\n",
      "hello good morning\n",
      "hello good morning\n",
      "hello good morning\n",
      "hello good morning\n",
      "hello good morning\n",
      "hello good morning\n",
      "hello good morning\n",
      "hello good morning\n",
      "hello good morning\n",
      "hello good morning\n",
      "hello good morning\n",
      "hello good morning\n",
      "hello good morning\n",
      "hello good morning\n",
      "hello good morning\n",
      "hello good morning\n",
      "hello good morning\n",
      "hello good morning\n",
      "hello good morning\n",
      "hello good morning\n",
      "hello good morning\n",
      "hello good morning\n",
      "hello good morning\n",
      "hello good morning\n",
      "hello good morning\n",
      "hello good morning\n",
      "hello good morning\n",
      "hello good morning\n",
      "hello good morning\n",
      "hello good morning\n",
      "hello good morning\n",
      "hello good morning\n",
      "hello good morning\n"
     ]
    }
   ],
   "source": [
    "# loops in pyhon\n",
    "for i in range(0,100,1):\n",
    "    print(\"hello good morning\")"
   ]
  },
  {
   "cell_type": "code",
   "execution_count": 14,
   "id": "875fad61",
   "metadata": {},
   "outputs": [
    {
     "name": "stdout",
     "output_type": "stream",
     "text": [
      "hello world\n",
      "hello world\n",
      "hello world\n",
      "hello world\n",
      "hello world\n",
      "hello world\n",
      "hello world\n",
      "hello world\n",
      "hello world\n",
      "hello world\n",
      "hello world\n",
      "hello world\n",
      "hello world\n",
      "hello world\n",
      "hello world\n",
      "hello world\n",
      "hello world\n",
      "hello world\n",
      "hello world\n",
      "hello world\n",
      "hello world\n",
      "hello world\n",
      "hello world\n",
      "hello world\n",
      "hello world\n",
      "hello world\n",
      "hello world\n",
      "hello world\n",
      "hello world\n",
      "hello world\n",
      "hello world\n",
      "hello world\n",
      "hello world\n",
      "hello world\n",
      "hello world\n",
      "hello world\n",
      "hello world\n",
      "hello world\n",
      "hello world\n",
      "hello world\n",
      "hello world\n",
      "hello world\n",
      "hello world\n",
      "hello world\n",
      "hello world\n",
      "hello world\n",
      "hello world\n",
      "hello world\n",
      "hello world\n",
      "hello world\n"
     ]
    }
   ],
   "source": [
    "i=0\n",
    "while i<50:\n",
    "    print(\"hello world\")\n",
    "    i=i+1\n",
    "    if i==20:\n",
    "        pass"
   ]
  },
  {
   "cell_type": "markdown",
   "id": "2cc9b8b6",
   "metadata": {},
   "source": [
    "# while loop"
   ]
  },
  {
   "cell_type": "code",
   "execution_count": 19,
   "id": "3fc7b223",
   "metadata": {},
   "outputs": [
    {
     "name": "stdout",
     "output_type": "stream",
     "text": [
      "1\n",
      "2\n",
      "3\n",
      "4\n",
      "5\n"
     ]
    }
   ],
   "source": [
    "#  program to display 1 to 5\n",
    "i=1\n",
    "while i<=5:\n",
    "    print(i)\n",
    "    i=i+1"
   ]
  },
  {
   "cell_type": "code",
   "execution_count": 1,
   "id": "d00fcd79",
   "metadata": {},
   "outputs": [
    {
     "name": "stdout",
     "output_type": "stream",
     "text": [
      "enter the number10\n",
      "1 * 10 = 10\n",
      "2 * 10 = 20\n",
      "3 * 10 = 30\n",
      "4 * 10 = 40\n",
      "5 * 10 = 50\n",
      "6 * 10 = 60\n",
      "7 * 10 = 70\n",
      "8 * 10 = 80\n",
      "9 * 10 = 90\n",
      "10 * 10 = 100\n"
     ]
    }
   ],
   "source": [
    "n=int(input(\"enter the number\"))\n",
    "i=1\n",
    "while i<=10:\n",
    "    print(i,\"*\",n,\"=\",i*n)\n",
    "    i=i+1"
   ]
  },
  {
   "cell_type": "markdown",
   "id": "99aa023f",
   "metadata": {},
   "source": [
    "# infinite loop"
   ]
  },
  {
   "cell_type": "code",
   "execution_count": null,
   "id": "a32b5777",
   "metadata": {},
   "outputs": [],
   "source": [
    "\"\"\"\"age =32\n",
    "while age>18:\n",
    "    print(\"you can go\")\"\"\""
   ]
  },
  {
   "cell_type": "markdown",
   "id": "525b5724",
   "metadata": {},
   "source": [
    "# else in while loop"
   ]
  },
  {
   "cell_type": "code",
   "execution_count": 2,
   "id": "66b91138",
   "metadata": {},
   "outputs": [
    {
     "name": "stdout",
     "output_type": "stream",
     "text": [
      "1\n",
      "2\n",
      "3\n",
      "4\n",
      "5\n",
      "hello\n"
     ]
    }
   ],
   "source": [
    "i=1\n",
    "while i<=5:\n",
    "    print(i)\n",
    "    i=i+1\n",
    "else:\n",
    "    print(\"hello\")"
   ]
  },
  {
   "cell_type": "markdown",
   "id": "c596172c",
   "metadata": {},
   "source": [
    "# for loop"
   ]
  },
  {
   "cell_type": "code",
   "execution_count": 3,
   "id": "22111efb",
   "metadata": {},
   "outputs": [
    {
     "name": "stdout",
     "output_type": "stream",
     "text": [
      "apple\n",
      "banana\n",
      "cherry\n"
     ]
    }
   ],
   "source": [
    "fruits=['apple','banana','cherry']\n",
    "for i in fruits:\n",
    "    print(i)"
   ]
  },
  {
   "cell_type": "code",
   "execution_count": 4,
   "id": "f9d838db",
   "metadata": {},
   "outputs": [
    {
     "name": "stdout",
     "output_type": "stream",
     "text": [
      "b\n",
      "a\n",
      "n\n",
      "a\n",
      "n\n",
      "a\n"
     ]
    }
   ],
   "source": [
    "x=\"banana\"\n",
    "for i in x:\n",
    "    print(i)"
   ]
  },
  {
   "cell_type": "code",
   "execution_count": 5,
   "id": "42c5540d",
   "metadata": {},
   "outputs": [
    {
     "name": "stdout",
     "output_type": "stream",
     "text": [
      "3\n",
      "4\n",
      "5\n",
      "6\n",
      "7\n",
      "8\n",
      "9\n",
      "10\n",
      "11\n",
      "12\n",
      "13\n",
      "14\n",
      "15\n",
      "16\n",
      "17\n",
      "18\n",
      "19\n",
      "20\n",
      "21\n",
      "22\n",
      "23\n",
      "24\n",
      "25\n",
      "26\n",
      "27\n",
      "28\n",
      "29\n",
      "30\n",
      "31\n",
      "32\n",
      "33\n",
      "34\n",
      "35\n",
      "36\n",
      "37\n",
      "38\n",
      "39\n",
      "40\n",
      "41\n",
      "42\n",
      "43\n",
      "44\n",
      "45\n",
      "46\n",
      "47\n",
      "48\n",
      "49\n"
     ]
    }
   ],
   "source": [
    "for i in range(3,50,1):\n",
    "    print(i)"
   ]
  },
  {
   "cell_type": "code",
   "execution_count": 7,
   "id": "bf52372b",
   "metadata": {},
   "outputs": [
    {
     "name": "stdout",
     "output_type": "stream",
     "text": [
      "0\n",
      "1\n",
      "2\n",
      "3\n",
      "4\n",
      "hello\n"
     ]
    }
   ],
   "source": [
    "for i in range(0,5):\n",
    "    print(i)\n",
    "else:\n",
    "    print(\"hello\")"
   ]
  },
  {
   "cell_type": "code",
   "execution_count": null,
   "id": "75178348",
   "metadata": {},
   "outputs": [],
   "source": []
  }
 ],
 "metadata": {
  "kernelspec": {
   "display_name": "Python 3 (ipykernel)",
   "language": "python",
   "name": "python3"
  },
  "language_info": {
   "codemirror_mode": {
    "name": "ipython",
    "version": 3
   },
   "file_extension": ".py",
   "mimetype": "text/x-python",
   "name": "python",
   "nbconvert_exporter": "python",
   "pygments_lexer": "ipython3",
   "version": "3.9.13"
  }
 },
 "nbformat": 4,
 "nbformat_minor": 5
}
