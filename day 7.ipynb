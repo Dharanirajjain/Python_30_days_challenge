{
 "cells": [
  {
   "cell_type": "code",
   "execution_count": 1,
   "id": "16e64e0f",
   "metadata": {},
   "outputs": [],
   "source": [
    "#strings\n"
   ]
  },
  {
   "cell_type": "code",
   "execution_count": 2,
   "id": "14d71edb",
   "metadata": {},
   "outputs": [
    {
     "name": "stdout",
     "output_type": "stream",
     "text": [
      "what is your name\n"
     ]
    }
   ],
   "source": [
    "string=\"what is your name\"\n",
    "print(string)"
   ]
  },
  {
   "cell_type": "code",
   "execution_count": 3,
   "id": "f2eee059",
   "metadata": {},
   "outputs": [
    {
     "name": "stdout",
     "output_type": "stream",
     "text": [
      "w\n"
     ]
    }
   ],
   "source": [
    "#string perform index operation also\n",
    "print(string[0])"
   ]
  },
  {
   "cell_type": "code",
   "execution_count": 4,
   "id": "c8737b83",
   "metadata": {},
   "outputs": [
    {
     "name": "stdout",
     "output_type": "stream",
     "text": [
      "e\n"
     ]
    }
   ],
   "source": [
    "print(string[-1])"
   ]
  },
  {
   "cell_type": "code",
   "execution_count": 6,
   "id": "b7c4fa6d",
   "metadata": {},
   "outputs": [
    {
     "name": "stdout",
     "output_type": "stream",
     "text": [
      "what is yo\n"
     ]
    }
   ],
   "source": [
    "#slicing\n",
    "print(string[0:10:1])"
   ]
  },
  {
   "cell_type": "code",
   "execution_count": 9,
   "id": "923db12b",
   "metadata": {},
   "outputs": [
    {
     "name": "stdout",
     "output_type": "stream",
     "text": [
      "eman ruoy si t\n"
     ]
    }
   ],
   "source": [
    "print(string[-1:2:-1])"
   ]
  },
  {
   "cell_type": "code",
   "execution_count": 10,
   "id": "d4aef214",
   "metadata": {},
   "outputs": [
    {
     "name": "stdout",
     "output_type": "stream",
     "text": [
      "<class 'str'>\n"
     ]
    }
   ],
   "source": [
    "a=\"\"\"my name is dharani raj jain.iam from bangalore i will love to work witj\n",
    "hejhjeh jrejkejr lklekl;ek\"\"\"\n",
    "print(type(a))"
   ]
  },
  {
   "cell_type": "code",
   "execution_count": 11,
   "id": "71fded4b",
   "metadata": {},
   "outputs": [
    {
     "name": "stdout",
     "output_type": "stream",
     "text": [
      "my name is dharani raj jain.iam from bangalore i will love to work witj\n",
      "hejhjeh jrejkejr lklekl;ek\n"
     ]
    }
   ],
   "source": [
    "print(a)"
   ]
  },
  {
   "cell_type": "code",
   "execution_count": 12,
   "id": "8e3f5ba3",
   "metadata": {},
   "outputs": [
    {
     "name": "stdout",
     "output_type": "stream",
     "text": [
      "hello\n"
     ]
    }
   ],
   "source": [
    "a=\"hello students\"\n",
    "print(a[0:5])"
   ]
  },
  {
   "cell_type": "code",
   "execution_count": 14,
   "id": "1a088eca",
   "metadata": {},
   "outputs": [
    {
     "name": "stdout",
     "output_type": "stream",
     "text": [
      "30\n"
     ]
    }
   ],
   "source": [
    "#finding the length of the string\n",
    "a=\"this is our day 7 python class\"\n",
    "print(len(a))"
   ]
  },
  {
   "cell_type": "code",
   "execution_count": 16,
   "id": "e1603c90",
   "metadata": {},
   "outputs": [
    {
     "name": "stdout",
     "output_type": "stream",
     "text": [
      "MY NAME IS DHARANI\n"
     ]
    }
   ],
   "source": [
    "#upper  method\n",
    "a=\"my name is dharani\"\n",
    "print(a.upper())"
   ]
  },
  {
   "cell_type": "code",
   "execution_count": 17,
   "id": "b5e3f294",
   "metadata": {},
   "outputs": [
    {
     "name": "stdout",
     "output_type": "stream",
     "text": [
      "dj\n"
     ]
    }
   ],
   "source": [
    "d=\"DJ\"\n",
    "print(d.lower())"
   ]
  },
  {
   "cell_type": "code",
   "execution_count": 24,
   "id": "55f8ef45",
   "metadata": {},
   "outputs": [
    {
     "name": "stdout",
     "output_type": "stream",
     "text": [
      "my name is dj dharani\n"
     ]
    }
   ],
   "source": [
    "#replace method\n",
    "a=\"my name is dharani dharani\"\n",
    "print(a.replace(\"dharani\",\"dj\",1))"
   ]
  },
  {
   "cell_type": "code",
   "execution_count": 25,
   "id": "6f329d7b",
   "metadata": {},
   "outputs": [
    {
     "name": "stdout",
     "output_type": "stream",
     "text": [
      "my name is dj dj\n"
     ]
    }
   ],
   "source": [
    "print(a.replace(\"dharani\",\"dj\",2))"
   ]
  },
  {
   "cell_type": "code",
   "execution_count": 31,
   "id": "3d06652a",
   "metadata": {},
   "outputs": [
    {
     "data": {
      "text/plain": [
       "10"
      ]
     },
     "execution_count": 31,
     "metadata": {},
     "output_type": "execute_result"
    }
   ],
   "source": [
    "#find methods\n",
    "a=\"python is great\"\n",
    "a.find(\"great\")"
   ]
  },
  {
   "cell_type": "code",
   "execution_count": null,
   "id": "c681d8ef",
   "metadata": {},
   "outputs": [],
   "source": []
  }
 ],
 "metadata": {
  "kernelspec": {
   "display_name": "Python 3 (ipykernel)",
   "language": "python",
   "name": "python3"
  },
  "language_info": {
   "codemirror_mode": {
    "name": "ipython",
    "version": 3
   },
   "file_extension": ".py",
   "mimetype": "text/x-python",
   "name": "python",
   "nbconvert_exporter": "python",
   "pygments_lexer": "ipython3",
   "version": "3.9.13"
  }
 },
 "nbformat": 4,
 "nbformat_minor": 5
}
