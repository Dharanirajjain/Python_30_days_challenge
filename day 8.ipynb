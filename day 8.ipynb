{
 "cells": [
  {
   "cell_type": "code",
   "execution_count": 1,
   "id": "0ccd2ab8",
   "metadata": {},
   "outputs": [],
   "source": [
    "#list it is a ordered,mutable,duplicate"
   ]
  },
  {
   "cell_type": "code",
   "execution_count": 12,
   "id": "0c64ca40",
   "metadata": {},
   "outputs": [
    {
     "name": "stdout",
     "output_type": "stream",
     "text": [
      "[2, 3, 4, 'my name']\n"
     ]
    }
   ],
   "source": [
    "l=[2,3,4,\"my name\"]\n",
    "print(l)"
   ]
  },
  {
   "cell_type": "code",
   "execution_count": 13,
   "id": "bb59f2c1",
   "metadata": {},
   "outputs": [
    {
     "name": "stdout",
     "output_type": "stream",
     "text": [
      "2\n"
     ]
    }
   ],
   "source": [
    "print(l[0])"
   ]
  },
  {
   "cell_type": "code",
   "execution_count": 14,
   "id": "32693618",
   "metadata": {},
   "outputs": [
    {
     "name": "stdout",
     "output_type": "stream",
     "text": [
      "[2, 3, 4]\n"
     ]
    }
   ],
   "source": [
    "print(l[0:3])"
   ]
  },
  {
   "cell_type": "code",
   "execution_count": 15,
   "id": "b86808e2",
   "metadata": {},
   "outputs": [
    {
     "name": "stdout",
     "output_type": "stream",
     "text": [
      "['my name', 4, 3, 2]\n"
     ]
    }
   ],
   "source": [
    "print(l[-1::-1])"
   ]
  },
  {
   "cell_type": "code",
   "execution_count": 16,
   "id": "3021c428",
   "metadata": {},
   "outputs": [],
   "source": [
    "l.remove(2)"
   ]
  },
  {
   "cell_type": "code",
   "execution_count": 17,
   "id": "1941d308",
   "metadata": {},
   "outputs": [
    {
     "data": {
      "text/plain": [
       "[3, 4, 'my name']"
      ]
     },
     "execution_count": 17,
     "metadata": {},
     "output_type": "execute_result"
    }
   ],
   "source": [
    "l"
   ]
  },
  {
   "cell_type": "code",
   "execution_count": 18,
   "id": "accdceb9",
   "metadata": {},
   "outputs": [
    {
     "data": {
      "text/plain": [
       "3"
      ]
     },
     "execution_count": 18,
     "metadata": {},
     "output_type": "execute_result"
    }
   ],
   "source": [
    "l.pop(0)"
   ]
  },
  {
   "cell_type": "code",
   "execution_count": 19,
   "id": "d8fbdc48",
   "metadata": {},
   "outputs": [
    {
     "data": {
      "text/plain": [
       "[4, 'my name']"
      ]
     },
     "execution_count": 19,
     "metadata": {},
     "output_type": "execute_result"
    }
   ],
   "source": [
    "l"
   ]
  },
  {
   "cell_type": "code",
   "execution_count": 20,
   "id": "78d571c3",
   "metadata": {},
   "outputs": [],
   "source": [
    "l.insert(0,5)"
   ]
  },
  {
   "cell_type": "code",
   "execution_count": 21,
   "id": "c321fdbf",
   "metadata": {},
   "outputs": [
    {
     "data": {
      "text/plain": [
       "[5, 4, 'my name']"
      ]
     },
     "execution_count": 21,
     "metadata": {},
     "output_type": "execute_result"
    }
   ],
   "source": [
    "l"
   ]
  },
  {
   "cell_type": "code",
   "execution_count": 22,
   "id": "8d0d3432",
   "metadata": {},
   "outputs": [],
   "source": [
    "l.append(6)"
   ]
  },
  {
   "cell_type": "code",
   "execution_count": 23,
   "id": "37dc4740",
   "metadata": {},
   "outputs": [
    {
     "data": {
      "text/plain": [
       "[5, 4, 'my name', 6]"
      ]
     },
     "execution_count": 23,
     "metadata": {},
     "output_type": "execute_result"
    }
   ],
   "source": [
    "l"
   ]
  },
  {
   "cell_type": "code",
   "execution_count": 26,
   "id": "65143176",
   "metadata": {},
   "outputs": [
    {
     "name": "stdout",
     "output_type": "stream",
     "text": [
      "apple\n"
     ]
    }
   ],
   "source": [
    "#ex1\n",
    "mylist=[\"apple\",\"banana\",\"cherry\",\"apple\"]\n",
    "print(mylist[0])"
   ]
  },
  {
   "cell_type": "code",
   "execution_count": 25,
   "id": "a846097a",
   "metadata": {},
   "outputs": [
    {
     "name": "stdout",
     "output_type": "stream",
     "text": [
      "<class 'list'>\n"
     ]
    }
   ],
   "source": [
    "print(type(mylist))"
   ]
  },
  {
   "cell_type": "code",
   "execution_count": 29,
   "id": "aef89008",
   "metadata": {},
   "outputs": [
    {
     "name": "stdout",
     "output_type": "stream",
     "text": [
      "[2, 3, 4.2, 'dtring', True]\n"
     ]
    }
   ],
   "source": [
    "#data types\n",
    "l1=[2,3,4.2,\"dtring\",True]\n",
    "print(l1)  #here we can observe all data types"
   ]
  },
  {
   "cell_type": "code",
   "execution_count": 30,
   "id": "ea5cc502",
   "metadata": {},
   "outputs": [
    {
     "name": "stdout",
     "output_type": "stream",
     "text": [
      "5\n"
     ]
    }
   ],
   "source": [
    "print(len(l1))"
   ]
  },
  {
   "cell_type": "code",
   "execution_count": 31,
   "id": "0d534686",
   "metadata": {},
   "outputs": [
    {
     "name": "stdout",
     "output_type": "stream",
     "text": [
      "7\n"
     ]
    }
   ],
   "source": [
    "b=[12,23,4,5,6,67,78]\n",
    "print(len(b))"
   ]
  },
  {
   "cell_type": "code",
   "execution_count": 32,
   "id": "ad50b717",
   "metadata": {},
   "outputs": [
    {
     "data": {
      "text/plain": [
       "78"
      ]
     },
     "execution_count": 32,
     "metadata": {},
     "output_type": "execute_result"
    }
   ],
   "source": [
    "b[-1]"
   ]
  },
  {
   "cell_type": "code",
   "execution_count": 33,
   "id": "0ceb6e06",
   "metadata": {},
   "outputs": [],
   "source": [
    "#slicing"
   ]
  },
  {
   "cell_type": "code",
   "execution_count": 34,
   "id": "cfb885ed",
   "metadata": {},
   "outputs": [
    {
     "name": "stdout",
     "output_type": "stream",
     "text": [
      "[12, 23, 4, 5, 6]\n"
     ]
    }
   ],
   "source": [
    "print(b[0:5:1])"
   ]
  },
  {
   "cell_type": "code",
   "execution_count": 35,
   "id": "f799c64f",
   "metadata": {},
   "outputs": [
    {
     "name": "stdout",
     "output_type": "stream",
     "text": [
      "[78, 67, 6, 5, 4, 23, 12]\n"
     ]
    }
   ],
   "source": [
    "print(b[::-1])"
   ]
  },
  {
   "cell_type": "code",
   "execution_count": 36,
   "id": "6cf296ab",
   "metadata": {},
   "outputs": [],
   "source": [
    "#change items\n",
    "thislist=[\"apple\",\"banana\",\"cherry\"]\n",
    "thislist.insert(1,\"stroberry\")"
   ]
  },
  {
   "cell_type": "code",
   "execution_count": 37,
   "id": "27d3fa8a",
   "metadata": {},
   "outputs": [
    {
     "data": {
      "text/plain": [
       "['apple', 'stroberry', 'banana', 'cherry']"
      ]
     },
     "execution_count": 37,
     "metadata": {},
     "output_type": "execute_result"
    }
   ],
   "source": [
    "thislist"
   ]
  },
  {
   "cell_type": "code",
   "execution_count": 40,
   "id": "d7371e1a",
   "metadata": {},
   "outputs": [
    {
     "data": {
      "text/plain": [
       "[1, 223, 54.76, 78.1, 45, 41, -1, 5, -4, 8, -2]"
      ]
     },
     "execution_count": 40,
     "metadata": {},
     "output_type": "execute_result"
    }
   ],
   "source": [
    "a=[1,223,34,24,45,41,-1,5,-4,8,-2]\n",
    "a[2:4]=[54.76,78.1]\n",
    "a"
   ]
  },
  {
   "cell_type": "code",
   "execution_count": 41,
   "id": "27f46b7d",
   "metadata": {},
   "outputs": [
    {
     "data": {
      "text/plain": [
       "-2"
      ]
     },
     "execution_count": 41,
     "metadata": {},
     "output_type": "execute_result"
    }
   ],
   "source": [
    "a.pop()"
   ]
  },
  {
   "cell_type": "code",
   "execution_count": 42,
   "id": "c0fdb689",
   "metadata": {},
   "outputs": [
    {
     "data": {
      "text/plain": [
       "[1, 223, 54.76, 78.1, 45, 41, -1, 5, -4, 8]"
      ]
     },
     "execution_count": 42,
     "metadata": {},
     "output_type": "execute_result"
    }
   ],
   "source": [
    "a"
   ]
  },
  {
   "cell_type": "code",
   "execution_count": 43,
   "id": "7b39f171",
   "metadata": {},
   "outputs": [
    {
     "data": {
      "text/plain": [
       "1"
      ]
     },
     "execution_count": 43,
     "metadata": {},
     "output_type": "execute_result"
    }
   ],
   "source": [
    "a.pop(0)"
   ]
  },
  {
   "cell_type": "code",
   "execution_count": 44,
   "id": "483c9045",
   "metadata": {},
   "outputs": [
    {
     "data": {
      "text/plain": [
       "[223, 54.76, 78.1, 45, 41, -1, 5, -4, 8]"
      ]
     },
     "execution_count": 44,
     "metadata": {},
     "output_type": "execute_result"
    }
   ],
   "source": [
    "a"
   ]
  },
  {
   "cell_type": "code",
   "execution_count": 45,
   "id": "4f2767ca",
   "metadata": {},
   "outputs": [],
   "source": [
    "a.insert(0,\"dj\")"
   ]
  },
  {
   "cell_type": "code",
   "execution_count": 46,
   "id": "709c1420",
   "metadata": {},
   "outputs": [
    {
     "data": {
      "text/plain": [
       "['dj', 223, 54.76, 78.1, 45, 41, -1, 5, -4, 8]"
      ]
     },
     "execution_count": 46,
     "metadata": {},
     "output_type": "execute_result"
    }
   ],
   "source": [
    "a"
   ]
  },
  {
   "cell_type": "code",
   "execution_count": 47,
   "id": "19d0f903",
   "metadata": {},
   "outputs": [],
   "source": [
    "a.append(\"bye\")"
   ]
  },
  {
   "cell_type": "code",
   "execution_count": 48,
   "id": "a78d152b",
   "metadata": {},
   "outputs": [
    {
     "data": {
      "text/plain": [
       "['dj', 223, 54.76, 78.1, 45, 41, -1, 5, -4, 8, 'bye']"
      ]
     },
     "execution_count": 48,
     "metadata": {},
     "output_type": "execute_result"
    }
   ],
   "source": [
    "a"
   ]
  },
  {
   "cell_type": "code",
   "execution_count": 49,
   "id": "7aae0392",
   "metadata": {},
   "outputs": [],
   "source": [
    "a.remove(223)"
   ]
  },
  {
   "cell_type": "code",
   "execution_count": 50,
   "id": "631e7f09",
   "metadata": {},
   "outputs": [
    {
     "data": {
      "text/plain": [
       "['dj', 54.76, 78.1, 45, 41, -1, 5, -4, 8, 'bye']"
      ]
     },
     "execution_count": 50,
     "metadata": {},
     "output_type": "execute_result"
    }
   ],
   "source": [
    "a"
   ]
  },
  {
   "cell_type": "code",
   "execution_count": 54,
   "id": "292c3315",
   "metadata": {},
   "outputs": [
    {
     "name": "stdout",
     "output_type": "stream",
     "text": [
      "480\n"
     ]
    }
   ],
   "source": [
    "a=[23,345,56,56]\n",
    "s=0\n",
    "for i in range(len(a)):\n",
    "    s=s+a[i]\n",
    "print(s)"
   ]
  },
  {
   "cell_type": "code",
   "execution_count": 55,
   "id": "92bc6402",
   "metadata": {},
   "outputs": [
    {
     "name": "stdout",
     "output_type": "stream",
     "text": [
      "3628800\n"
     ]
    }
   ],
   "source": [
    "# multiply all the number of the list\n",
    "a=[1,2,3,4,5,6,7,8,9,10]\n",
    "m=1\n",
    "for i in range(len(a)):\n",
    "    m=m*a[i]\n",
    "print(m)\n",
    "    "
   ]
  },
  {
   "cell_type": "code",
   "execution_count": null,
   "id": "21b73954",
   "metadata": {},
   "outputs": [],
   "source": []
  }
 ],
 "metadata": {
  "kernelspec": {
   "display_name": "Python 3 (ipykernel)",
   "language": "python",
   "name": "python3"
  },
  "language_info": {
   "codemirror_mode": {
    "name": "ipython",
    "version": 3
   },
   "file_extension": ".py",
   "mimetype": "text/x-python",
   "name": "python",
   "nbconvert_exporter": "python",
   "pygments_lexer": "ipython3",
   "version": "3.9.13"
  }
 },
 "nbformat": 4,
 "nbformat_minor": 5
}
